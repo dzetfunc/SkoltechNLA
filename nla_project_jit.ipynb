{
 "cells": [
  {
   "cell_type": "markdown",
   "metadata": {},
   "source": [
    "## Vova Bravo"
   ]
  },
  {
   "cell_type": "markdown",
   "metadata": {},
   "source": [
    "### Hutchinson estimator of the trace"
   ]
  },
  {
   "cell_type": "code",
   "execution_count": 1,
   "metadata": {},
   "outputs": [],
   "source": [
    "import numpy as np\n",
    "from numba import njit\n",
    "import cProfile\n",
    "import time\n",
    "import cupy as cp"
   ]
  },
  {
   "cell_type": "code",
   "execution_count": 2,
   "metadata": {},
   "outputs": [],
   "source": [
    "@njit\n",
    "def t_comp(eps, delta):\n",
    "    fig = 8./(eps**2) * np.log(2./delta)\n",
    "    fig = int(fig+1)\n",
    "    return fig"
   ]
  },
  {
   "cell_type": "code",
   "execution_count": 3,
   "metadata": {},
   "outputs": [],
   "source": [
    "@njit\n",
    "def c(p):\n",
    "    fig = (2 + int(p))**(p+1)\n",
    "    if p > 1:\n",
    "        array = np.array([abs((p - i + 1)/i) for i in range(1, int(p) + 1)])\n",
    "        nafig = np.prod(array)\n",
    "    else:\n",
    "        nafig = 1\n",
    "    return fig*nafig"
   ]
  },
  {
   "cell_type": "code",
   "execution_count": 4,
   "metadata": {},
   "outputs": [],
   "source": [
    "@njit\n",
    "def m_comp(c, p, eps, n):\n",
    "    fig = 7* np.power(3*c*n/(p*eps), 1/p)\n",
    "    return np.int(fig + 1)"
   ]
  },
  {
   "cell_type": "code",
   "execution_count": 5,
   "metadata": {},
   "outputs": [],
   "source": [
    "@njit\n",
    "def beta(m, c, p):\n",
    "    fig = (c/p) * np.power(float(m)+1, -p)\n",
    "    return fig"
   ]
  },
  {
   "cell_type": "code",
   "execution_count": 22,
   "metadata": {},
   "outputs": [],
   "source": [
    "@njit\n",
    "def hutch(X, p, m, t):\n",
    "    y = 0\n",
    "    n = X.shape[0]\n",
    "    for i in range(1,t+1):\n",
    "        g_i = np.random.binomial(1, 0.5, size=(n,))  * 2.0 - 1.0\n",
    "        v_k = X@g_i\n",
    "        u_k = g_i@v_k\n",
    "        a_k = p\n",
    "        S_i_k = a_k*u_k\n",
    "        for k in range(2, m+1):\n",
    "            v_k = X@v_k\n",
    "            u_k = g_i@v_k\n",
    "            a_k = a_k * (p-(k-1))/k\n",
    "            if np.abs(a_k) < 1e-8:\n",
    "                break\n",
    "            S_i_k = S_i_k + (((-1)**(k-1)) * a_k) * u_k\n",
    "        y += S_i_k\n",
    "    y = y / t\n",
    "    return y"
   ]
  },
  {
   "cell_type": "code",
   "execution_count": 23,
   "metadata": {},
   "outputs": [],
   "source": [
    "@njit\n",
    "def power_method(A, x0, num_iter):\n",
    "    for iter in range(num_iter):\n",
    "        x0 = A @ x0\n",
    "        x0 = x0 / np.linalg.norm(x0)\n",
    "        approx = (A @ x0)\n",
    "        l = x0 @ approx\n",
    "    return x0, l\n",
    "\n",
    "# def power_method_vec(A, X, num_iter):\n",
    "#     xp = cp.get_array_module(A)\n",
    "#     for iter in range(num_iter):\n",
    "#         X = A @ X\n",
    "#         X = X / xp.linalg.norm(X, axis=0)\n",
    "#         approx = (A @ X)\n",
    "#         ls =  np.sum(X * approx, axis=0)\n",
    "#     return ls"
   ]
  },
  {
   "cell_type": "code",
   "execution_count": 24,
   "metadata": {},
   "outputs": [],
   "source": [
    "@njit\n",
    "def alpha(A, delta):\n",
    "    n = A.shape[0]\n",
    "    q = int(4.82 * np.log(1. / delta) + 1)\n",
    "    t = int(0.5 * np.log(4 * n) + 1)\n",
    "    max_lambda = 0\n",
    "    for i in range(q):\n",
    "        x0 = np.random.binomial(1, 0.5, size=(n,)) * 2.0 - 1.0\n",
    "        x, l = power_method(A, x0, t)\n",
    "        if l > max_lambda:\n",
    "            max_lambda = l\n",
    "    return max_lambda"
   ]
  },
  {
   "cell_type": "code",
   "execution_count": 25,
   "metadata": {},
   "outputs": [],
   "source": [
    "@njit\n",
    "def vova_bravo_without(A, p, eps, delta):\n",
    "    n = A.shape[0]\n",
    "    t = t_comp(eps, delta)\n",
    "    c_p = c(p)\n",
    "    m = m_comp(c_p, p, eps, n)\n",
    "    b_m = beta(m, c_p, p)\n",
    "    a = alpha(A, delta)\n",
    "    print(t, m)\n",
    "    return np.power(a, p) * np.floor((1+b_m)*n - hutch(np.eye(n) - A / a, p, m, t))"
   ]
  },
  {
   "cell_type": "code",
   "execution_count": 26,
   "metadata": {},
   "outputs": [],
   "source": [
    "def compute_true_schatten(A, p):\n",
    "    u, s, vh = np.linalg.svd(A)\n",
    "    return np.power(s, p).sum()"
   ]
  },
  {
   "cell_type": "code",
   "execution_count": 31,
   "metadata": {},
   "outputs": [],
   "source": [
    "A = np.random.normal(size=(200, 200))\n",
    "A = A.T @ A"
   ]
  },
  {
   "cell_type": "code",
   "execution_count": 36,
   "metadata": {},
   "outputs": [
    {
     "name": "stdout",
     "output_type": "stream",
     "text": [
      "2952 299\n",
      "0.9783480167388916\n"
     ]
    }
   ],
   "source": [
    "p = 5\n",
    "start = time.time()\n",
    "schatten_vova_bravo = vova_bravo_without(A, p, eps=0.1, delta=0.05)\n",
    "print(time.time() - start)"
   ]
  },
  {
   "cell_type": "code",
   "execution_count": 33,
   "metadata": {},
   "outputs": [],
   "source": [
    "schatten_true = compute_true_schatten(A, p)"
   ]
  },
  {
   "cell_type": "markdown",
   "metadata": {},
   "source": [
    "## Error computation"
   ]
  },
  {
   "cell_type": "code",
   "execution_count": 34,
   "metadata": {},
   "outputs": [
    {
     "data": {
      "text/plain": [
       "0.03940280358506373"
      ]
     },
     "execution_count": 34,
     "metadata": {},
     "output_type": "execute_result"
    }
   ],
   "source": [
    "np.abs((schatten_vova_bravo - schatten_true) / schatten_true)"
   ]
  },
  {
   "cell_type": "markdown",
   "metadata": {},
   "source": [
    "## Non-positive definite"
   ]
  },
  {
   "cell_type": "code",
   "execution_count": 14,
   "metadata": {},
   "outputs": [],
   "source": [
    "import scipy.special"
   ]
  },
  {
   "cell_type": "code",
   "execution_count": 15,
   "metadata": {},
   "outputs": [],
   "source": [
    "def h_tilde(A, m, p):\n",
    "    A_k = A\n",
    "    h_tilde = np.zeros_like(A)\n",
    "    for i in range(1, m+1):\n",
    "        h_tilde += (-1 if i % 2 == 0 else 1) * scipy.special.binom(p, i) * A_k\n",
    "        A_k = A_k @ A\n",
    "    return h_tilde"
   ]
  },
  {
   "cell_type": "code",
   "execution_count": 16,
   "metadata": {},
   "outputs": [],
   "source": [
    "p = 5\n",
    "eps = 0.05\n",
    "delta = 0.01\n",
    "n = A.shape[0]\n",
    "t = t_comp(eps, delta)\n",
    "c_p = c(p)\n",
    "m = m_comp(c_p, p, eps, n)\n",
    "b_m = beta(m, c_p, p)\n",
    "a = 6 * alpha(A, delta)"
   ]
  },
  {
   "cell_type": "code",
   "execution_count": null,
   "metadata": {},
   "outputs": [],
   "source": [
    "hutch(np.eye(n) - A / a, p, m, t)"
   ]
  },
  {
   "cell_type": "code",
   "execution_count": null,
   "metadata": {},
   "outputs": [],
   "source": [
    "def hutch_test(A, eps, delta):\n",
    "    p = int(20*np.log(2/delta)/(eps)**2)\n",
    "    gamma = 0\n",
    "    for i in range(p):\n",
    "        g = np.random.randn(A.shape[0])\n",
    "        fig = A.dot(g)\n",
    "        nafig = g.dot(fig)\n",
    "        gamma = gamma + nafig\n",
    "    gamma = gamma/p\n",
    "    return gamma"
   ]
  },
  {
   "cell_type": "code",
   "execution_count": null,
   "metadata": {
    "scrolled": true
   },
   "outputs": [],
   "source": [
    "h_tilde(np.eye(n) - A / a, m, p).trace()"
   ]
  },
  {
   "cell_type": "code",
   "execution_count": null,
   "metadata": {},
   "outputs": [],
   "source": [
    "hutch_test(h_tilde(np.eye(n) - A / a, m, p), eps, delta)"
   ]
  }
 ],
 "metadata": {
  "kernelspec": {
   "display_name": "Python 3",
   "language": "python",
   "name": "python3"
  },
  "language_info": {
   "codemirror_mode": {
    "name": "ipython",
    "version": 3
   },
   "file_extension": ".py",
   "mimetype": "text/x-python",
   "name": "python",
   "nbconvert_exporter": "python",
   "pygments_lexer": "ipython3",
   "version": "3.6.3"
  }
 },
 "nbformat": 4,
 "nbformat_minor": 2
}
